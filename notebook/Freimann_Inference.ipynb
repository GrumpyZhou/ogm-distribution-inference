{
 "cells": [
  {
   "cell_type": "code",
   "execution_count": 28,
   "metadata": {
    "collapsed": false
   },
   "outputs": [
    {
     "name": "stdout",
     "output_type": "stream",
     "text": [
      "The autoreload extension is already loaded. To reload it, use:\n",
      "  %reload_ext autoreload\n"
     ]
    }
   ],
   "source": [
    "import sys\n",
    "sys.path.append(\"../\")\n",
    "from ipyleaflet import (\n",
    "    Map,\n",
    "    Marker,\n",
    "    TileLayer, ImageOverlay,\n",
    "    Polyline, Polygon, Rectangle, Circle, CircleMarker,\n",
    "    GeoJSON,\n",
    "    DrawControl\n",
    ")\n",
    "import numpy as np\n",
    "import random\n",
    "import time \n",
    "from core.data_handler import *\n",
    "from core.inference_handler import *\n",
    "\n",
    "# Simple code to generate a new map\n",
    "def cleanMap(center, boundary): \n",
    "    # Mark transformer\n",
    "    tMarker =  Marker(location=center)\n",
    "    # Mark polygon\n",
    "    tPoly = Polygon(locations=boundary, weight=2,\n",
    "                color='#003d99', opacity=0.4, fill_opacity=0.0,\n",
    "                fill_color='#ccffcc') \n",
    "    tMap = Map(default_tiles=TileLayer(opacity=1.0),center=center ,zoom=16)\n",
    "    #tMap.add_layer(tMarker)\n",
    "    tMap.add_layer(tPoly)\n",
    "    return tMap\n",
    "\n",
    "%load_ext autoreload\n",
    "%autoreload 2\n",
    "\n",
    "def cleanMap(center, boundary): \n",
    "    # Mark transformer\n",
    "    tMarker =  Marker(location=center)\n",
    "    # Mark polygon\n",
    "    tPoly = Polygon(locations=boundary, weight=3,\n",
    "                color='#003d99', opacity=0.8, fill_opacity=0.0,\n",
    "                fill_color='#ccffcc') \n",
    "    tMap = Map(default_tiles=TileLayer(opacity=1.0),center=center ,zoom=16)\n",
    "    tMap.add_layer(tMarker)\n",
    "    tMap.add_layer(tPoly)\n",
    "    return tMap"
   ]
  },
  {
   "cell_type": "markdown",
   "metadata": {},
   "source": [
    "## Connect to db "
   ]
  },
  {
   "cell_type": "code",
   "execution_count": 30,
   "metadata": {
    "collapsed": false
   },
   "outputs": [
    {
     "name": "stdout",
     "output_type": "stream",
     "text": [
      "Connection established. DNS info: dbname=gis user=jennyzhou\n"
     ]
    }
   ],
   "source": [
    "conn = connect_to_psql(dbname='gis', user='jennyzhou')"
   ]
  },
  {
   "cell_type": "markdown",
   "metadata": {},
   "source": [
    "## Define the Freimann subarea"
   ]
  },
  {
   "cell_type": "code",
   "execution_count": 10,
   "metadata": {
    "collapsed": false
   },
   "outputs": [
    {
     "name": "stdout",
     "output_type": "stream",
     "text": [
      "Select freimann subarea with id=3\n"
     ]
    }
   ],
   "source": [
    "# Define freimann subarea \n",
    "area_id = 3\n",
    "core_center, core_boundary = select_freimann_subarea(area_id=area_id, conn=conn)\n",
    "# tMap = cleanMap(core_center, core_boundary)\n",
    "# tMap"
   ]
  },
  {
   "cell_type": "markdown",
   "metadata": {},
   "source": [
    "## Generate inference step by step"
   ]
  },
  {
   "cell_type": "markdown",
   "metadata": {},
   "source": [
    "### Step0. Use roads from osm and split them by road crosses"
   ]
  },
  {
   "cell_type": "code",
   "execution_count": 16,
   "metadata": {
    "collapsed": false
   },
   "outputs": [
    {
     "name": "stdout",
     "output_type": "stream",
     "text": [
      "Original roads: 21 Split roads: 53\n"
     ]
    }
   ],
   "source": [
    "# Select roads within the area\n",
    "roads = select_roads(area_id, conn)\n",
    "\n",
    "# Split roads by road intersections\n",
    "split_roads = split_by_difference(roads)\n",
    "print 'Original roads: %d Split roads: %d'%(len(roads), len(split_roads))\n",
    "\n",
    "# Uncomment the following lines to visualize the split roads\n",
    "# tMap = cleanMap(core_center, core_boundary)\n",
    "# for line in split_roads:\n",
    "#     color = \"#%06x\" % random.randint(0, 0xFFFFFF)\n",
    "#     pl = Polyline(locations=line, weight=2, color=color, opacity=0.9)\n",
    "#     tMap.add_layer(pl)\n",
    "    \n",
    "# tMap"
   ]
  },
  {
   "cell_type": "markdown",
   "metadata": {},
   "source": [
    "### Step1. Choose road end points within the subarea as road nodes"
   ]
  },
  {
   "cell_type": "code",
   "execution_count": 17,
   "metadata": {
    "collapsed": false
   },
   "outputs": [
    {
     "name": "stdout",
     "output_type": "stream",
     "text": [
      "Approximated road nodes 37\n",
      "Original nodes 37 >> Strictly within area 25\n"
     ]
    }
   ],
   "source": [
    "# Find road nodes\n",
    "road_nodes = set()\n",
    "for rd in split_roads:\n",
    "    road_nodes.add(tuple(rd[0]))\n",
    "    road_nodes.add(tuple(rd[-1]))\n",
    "print 'Approximated road nodes %d' % len(road_nodes)\n",
    "\n",
    "# Filter out road nodes out of the area boundary\n",
    "filtered_road_nodes = filter_by_boundary(road_nodes, core_boundary)\n",
    "\n",
    "# Uncomment the following lines to visualize the road nodes within the boundary\n",
    "# tMap = cleanMap(core_center, core_boundary)\n",
    "# for nd in filtered_road_nodes:\n",
    "#     omk = Circle(location=nd, weight=1, opacity = 0.8, color = 'green', radius = 1) \n",
    "#     tMap.add_layer(omk)\n",
    "# tMap"
   ]
  },
  {
   "cell_type": "markdown",
   "metadata": {},
   "source": [
    "### Step2. Prepare nodes and edges for graph inference"
   ]
  },
  {
   "cell_type": "code",
   "execution_count": 20,
   "metadata": {
    "collapsed": false
   },
   "outputs": [
    {
     "name": "stdout",
     "output_type": "stream",
     "text": [
      "Original nodes 169 Proj nodes 169\n"
     ]
    }
   ],
   "source": [
    "# Find out all the target nodes in table freimann_processed_nodes and their projection onto roads\n",
    "orig_nodes, proj_nodes, map_edges = select_nodes_and_projection(area_id, conn)\n",
    "print 'Original nodes %d Proj nodes %d' % (len(orig_nodes), len(proj_nodes))\n",
    "\n",
    "# Uncomment the following lines to visualize the target nodes and their projection within the boundary\n",
    "# tMap = cleanMap(core_center, core_boundary)\n",
    "# for nd in orig_nodes:\n",
    "#     omk = Circle(location=nd, weight=1, opacity = 0.8, color = 'blue', radius = 1) \n",
    "#     tMap.add_layer(omk)\n",
    "\n",
    "# for nd in proj_nodes:\n",
    "#     omk = Circle(location=nd, weight=1, opacity = 0.8, color = 'green', radius = 1) \n",
    "#     tMap.add_layer(omk)\n",
    "\n",
    "# for line in map_edges:\n",
    "#     pl = Polyline(locations=line, weight=1, color='red', opacity=0.7)\n",
    "#     tMap.add_layer(pl)\n",
    "# tMap"
   ]
  },
  {
   "cell_type": "markdown",
   "metadata": {},
   "source": [
    "### Step3. Generate inference graph by finding a minimum spanning tree \n",
    "### MST Version 1 with direct connection to house"
   ]
  },
  {
   "cell_type": "code",
   "execution_count": 22,
   "metadata": {
    "collapsed": false
   },
   "outputs": [
    {
     "name": "stdout",
     "output_type": "stream",
     "text": [
      "Graph edges 362, nodes 363\n",
      "Save graph as ../graph/aid_3_inf_v1.npy\n"
     ]
    }
   ],
   "source": [
    "# V1: Generate MST with all nodes\n",
    "MST1 = generate_mst_direct(list(filtered_road_nodes | orig_nodes | proj_nodes))\n",
    "sav_graph_npy('../graph/aid_%d_inf_v1.npy'%area_id, MST1)\n",
    "\n",
    "# Uncomment the following lines to visualize graph\n",
    "# tMap = cleanMap(core_center, core_boundary)\n",
    "# for tp in MST1.nodes():\n",
    "#     cs = Circle(location=tp, weight=1, opacity = 0.9, color = 'yellow', radius = 1) \n",
    "#     tMap.add_layer(cs)\n",
    "\n",
    "# for line in MST1.edges():\n",
    "#     pl = Polyline(locations=line, weight=1, color='blue', opacity=0.7)\n",
    "#     tMap.add_layer(pl)\n",
    "# tMap"
   ]
  },
  {
   "cell_type": "markdown",
   "metadata": {},
   "source": [
    "### MST Version 2 manually added connection to house"
   ]
  },
  {
   "cell_type": "code",
   "execution_count": 25,
   "metadata": {
    "collapsed": false
   },
   "outputs": [
    {
     "name": "stdout",
     "output_type": "stream",
     "text": [
      "Graph edges 193, nodes 194\n",
      "After adding house connection >> edges 362, nodes 363\n",
      "Save graph as ../graph/aid_3_inf_v2.npy\n"
     ]
    }
   ],
   "source": [
    "# V2: Generate MST with projected nodes only\n",
    "MST2 = generate_mst_improved(list(filtered_road_nodes | proj_nodes), map_edges)\n",
    "sav_graph_npy('../graph/aid_%d_inf_v2.npy'%area_id, MST2)\n",
    "\n",
    "# Uncomment the following lines to visualize graph\n",
    "# tMap = cleanMap(core_center, core_boundary)\n",
    "# for tp in MST2.nodes():\n",
    "#     cs = Circle(location=tp, weight=1, opacity = 0.9, color = 'yellow', radius = 1) \n",
    "#     tMap.add_layer(cs)\n",
    "\n",
    "# for line in MST2.edges():\n",
    "#     pl = Polyline(locations=line, weight=1, color='blue', opacity=0.7)\n",
    "#     tMap.add_layer(pl)\n",
    "# tMap"
   ]
  },
  {
   "cell_type": "markdown",
   "metadata": {},
   "source": [
    "## Load saved graph and save as csv for visualization in QGIS"
   ]
  },
  {
   "cell_type": "code",
   "execution_count": 26,
   "metadata": {
    "collapsed": false
   },
   "outputs": [
    {
     "name": "stdout",
     "output_type": "stream",
     "text": [
      "Graph edge length: 3025.46761864\n",
      "Save to ../graph/aid_3_inf_v1_nodes.csv\n",
      "Save to ../graph/aid_3_inf_v1_edges.csv\n",
      "Graph edge length: 3342.53162072\n",
      "Save to ../graph/aid_3_inf_v2_nodes.csv\n",
      "Save to ../graph/aid_3_inf_v2_edges.csv\n"
     ]
    }
   ],
   "source": [
    "# MST V1\n",
    "G1, total_length = load_graph_npy('../graph/aid_%d_inf_v1.npy'%area_id)\n",
    "print 'Graph edge length: %s'%total_length\n",
    "# Save G1 as csv file\n",
    "sav_graph_to_csv(save_dir='../graph', prefix='aid_%d_inf_v1'%area_id, graph=G1) \n",
    "\n",
    "# MST V2\n",
    "G2, total_length = load_graph_npy('../graph/aid_%d_inf_v2.npy'%area_id)\n",
    "print 'Graph edge length: %s'%total_length\n",
    "# Save G2 as csv file\n",
    "sav_graph_to_csv(save_dir='../graph', prefix='aid_%d_inf_v2'%area_id, graph=G2) "
   ]
  }
 ],
 "metadata": {
  "anaconda-cloud": {},
  "kernelspec": {
   "display_name": "Python [Root]",
   "language": "python",
   "name": "Python [Root]"
  },
  "language_info": {
   "codemirror_mode": {
    "name": "ipython",
    "version": 2
   },
   "file_extension": ".py",
   "mimetype": "text/x-python",
   "name": "python",
   "nbconvert_exporter": "python",
   "pygments_lexer": "ipython2",
   "version": "2.7.12"
  }
 },
 "nbformat": 4,
 "nbformat_minor": 0
}

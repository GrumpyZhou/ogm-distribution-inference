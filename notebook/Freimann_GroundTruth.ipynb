{
 "cells": [
  {
   "cell_type": "code",
   "execution_count": 6,
   "metadata": {
    "collapsed": false
   },
   "outputs": [],
   "source": [
    "import sys\n",
    "sys.path.append(\"../\")\n",
    "from ipyleaflet import (\n",
    "    Map,\n",
    "    Marker,\n",
    "    TileLayer, ImageOverlay,\n",
    "    Polyline, Polygon, Rectangle, Circle, CircleMarker,\n",
    "    GeoJSON,\n",
    "    DrawControl\n",
    ")\n",
    "import numpy as np\n",
    "import random\n",
    "import time \n",
    "from core.data_handler import *\n",
    "from core.inference_handler import *\n",
    "%load_ext autoreload\n",
    "%autoreload 2\n",
    "\n",
    "# Simple code to generate a new map\n",
    "def cleanMap(center, boundary): \n",
    "    # Mark transformer\n",
    "    tMarker =  Marker(location=center)\n",
    "    # Mark polygon\n",
    "    tPoly = Polygon(locations=boundary, weight=2,\n",
    "                color='#003d99', opacity=0.4, fill_opacity=0.0,\n",
    "                fill_color='#ccffcc') \n",
    "    tMap = Map(default_tiles=TileLayer(opacity=1.0),center=center ,zoom=16)\n",
    "    #tMap.add_layer(tMarker)\n",
    "    tMap.add_layer(tPoly)\n",
    "    return tMap"
   ]
  },
  {
   "cell_type": "markdown",
   "metadata": {},
   "source": [
    "## Connect to db "
   ]
  },
  {
   "cell_type": "code",
   "execution_count": 7,
   "metadata": {
    "collapsed": false
   },
   "outputs": [
    {
     "name": "stdout",
     "output_type": "stream",
     "text": [
      "Connection established. DNS info: dbname=gis user=jennyzhou\n"
     ]
    }
   ],
   "source": [
    "conn = connect_to_psql(dbname='gis', user='jennyzhou')"
   ]
  },
  {
   "cell_type": "markdown",
   "metadata": {},
   "source": [
    "## Define the Freimann subarea"
   ]
  },
  {
   "cell_type": "code",
   "execution_count": 10,
   "metadata": {
    "collapsed": false
   },
   "outputs": [
    {
     "name": "stdout",
     "output_type": "stream",
     "text": [
      "Select freimann subarea with id=3\n"
     ]
    }
   ],
   "source": [
    "# Define freimann subarea \n",
    "area_id = 3\n",
    "core_center, core_boundary = select_freimann_subarea(area_id=area_id, conn=conn)\n",
    "# tMap = cleanMap(core_center, core_boundary)\n",
    "# tMap"
   ]
  },
  {
   "cell_type": "markdown",
   "metadata": {},
   "source": [
    "## Generate groundtruth step by step"
   ]
  },
  {
   "cell_type": "markdown",
   "metadata": {},
   "source": [
    "### Step0. Merge duplicated transformers and cabinets and store into database( Skip this if they are already in DB)"
   ]
  },
  {
   "cell_type": "code",
   "execution_count": 12,
   "metadata": {
    "collapsed": false
   },
   "outputs": [
    {
     "name": "stdout",
     "output_type": "stream",
     "text": [
      "Transformers: 4 \n",
      "Cabinets: 15 \n",
      "\n",
      "Merging time 0.000434160232544 s\n",
      "Original transformers 4  Merged transformers 1\n",
      "Merging time 0.0110239982605 s\n",
      "Original cabinets 15  Merged cabinets 14\n"
     ]
    }
   ],
   "source": [
    "# Select transformers, cabinets\n",
    "transformers = select_transformers(area_id, conn)\n",
    "cabinets = select_cabinets(area_id, conn)\n",
    "print 'Transformers: %d \\nCabinets: %d \\n'% (len(transformers), len(cabinets))\n",
    "\n",
    "# Merge duplicate transformers and cabinets i.e. within distance threshold\n",
    "origin_trans = list(transformers)\n",
    "merged_trans = list(merge_nodes(origin_trans, threshold=1e-4).keys())\n",
    "print 'Original transformers %d  Merged transformers %d'%(len(transformers), len(merged_trans))\n",
    "\n",
    "origin_cabs = list(cabinets)\n",
    "merged_cabs = list(merge_nodes(origin_cabs, threshold=5e-3).keys())\n",
    "print 'Original cabinets %d  Merged cabinets %d'%(len(cabinets), len(merged_cabs))\n",
    "\n",
    "# Save merged transformers and cabinets in table freimann_processed_nodes\n",
    "# insert_merged_nodes(area_id, merged_trans, merged_cabs, conn)  # Uncomment this line for really saving the result"
   ]
  },
  {
   "cell_type": "markdown",
   "metadata": {
    "collapsed": true
   },
   "source": [
    "### Step1.  Join transformers and cabinets with cables endpoints"
   ]
  },
  {
   "cell_type": "code",
   "execution_count": 13,
   "metadata": {
    "collapsed": false
   },
   "outputs": [
    {
     "name": "stdout",
     "output_type": "stream",
     "text": [
      "Transformers: 1 \n",
      "Cabinets: 14\n",
      "Cables: 243\n",
      "Target nodes: 15\n",
      "Joining cables took: 0.392870903015 s; Joint endpoints: 95\n"
     ]
    }
   ],
   "source": [
    "# Select merged transformers, cabinets\n",
    "merged_trans, merged_cabs = select_merged_trans_cabs(area_id, conn)\n",
    "print 'Transformers: %d \\nCabinets: %d'% (len(merged_trans), len(merged_cabs))\n",
    "\n",
    "# Select NSP Cables\n",
    "cables = select_cables(area_id, conn)\n",
    "print 'Cables: %d'%len(cables)\n",
    "\n",
    "# Join transformers and cabinets with cables endpoints\n",
    "origin_cables = list(cables)\n",
    "target_nodes = list(merged_cabs + merged_trans)\n",
    "joint_cables = join_cables(origin_cables, target_nodes, threshold=5e-3)\n",
    "\n",
    "# Uncomment the following lines to visualize the merged nodes and joint cables\n",
    "# tMap = cleanMap(core_center, core_boundary)\n",
    "# for tp in merged_trans:  \n",
    "#     cs = Circle(location=tp, weight=2, opacity = 0.7, color = 'red', radius = 1) \n",
    "#     tMap.add_layer(cs)\n",
    "    \n",
    "# for tp in merged_cabs:\n",
    "#     cs = Circle(location=tp, weight=2, opacity = 0.7, color = 'green', radius = 1) \n",
    "#     tMap.add_layer(cs)\n",
    "\n",
    "# for cable in joint_cables:\n",
    "#     pl = Polyline(locations=cable, weight=1, color='blue', opacity=0.7)\n",
    "#     tMap.add_layer(pl)\n",
    "\n",
    "# tMap"
   ]
  },
  {
   "cell_type": "markdown",
   "metadata": {},
   "source": [
    "### Step2. Generate graph"
   ]
  },
  {
   "cell_type": "code",
   "execution_count": 18,
   "metadata": {
    "collapsed": false
   },
   "outputs": [
    {
     "name": "stdout",
     "output_type": "stream",
     "text": [
      "Generated subgraphs: 12\n",
      "Largest Graph edges: 1253 nodes: 1238 connected: True\n"
     ]
    }
   ],
   "source": [
    "# Generate connected graphs with joint edges\n",
    "subgraphs = generate_connected_subgraph(joint_cables)\n",
    "print 'Generated subgraphs:',len(subgraphs)\n",
    "\n",
    "# Select the graph with most edges\n",
    "lens = [len(graph.edges()) for graph in subgraphs]\n",
    "graph = subgraphs[np.argsort(lens)[-1]]\n",
    "print 'Largest Graph edges: %d nodes: %d connected: %s'%(len(graph.edges()), len(graph.nodes()), nx.is_connected(graph))   \n",
    "\n",
    "# Uncomment the following lines to visualize each subgraph with different color\n",
    "# tMap = cleanMap(core_center, core_boundary)\n",
    "# for graph in subgraphs:\n",
    "#     color = \"#%06x\" % random.randint(0, 0xFFFFFF)\n",
    "#     for tp in graph.nodes():\n",
    "#         cs = Circle(location=tp, weight=1, opacity = 0.9, color = 'red', radius = 0) \n",
    "#         tMap.add_layer(cs)\n",
    "\n",
    "#     for line in graph.edges():\n",
    "#         pl = Polyline(locations=line, weight=2, color=color, opacity=0.7)\n",
    "#         tMap.add_layer(pl)\n",
    "# tMap"
   ]
  },
  {
   "cell_type": "markdown",
   "metadata": {},
   "source": [
    "### Step3. Simplify the graph and save graph result"
   ]
  },
  {
   "cell_type": "code",
   "execution_count": 20,
   "metadata": {
    "collapsed": false
   },
   "outputs": [
    {
     "name": "stdout",
     "output_type": "stream",
     "text": [
      "Reducing graph took: 31.9054160118 Reduced Graph: 758 edges, 725 nodes Connected: True\n",
      "Save graph as ../graph/aid_3_gt.npy\n"
     ]
    }
   ],
   "source": [
    "# Reduce duplicated nodes and edges\n",
    "reduced_graph = reduce_graph(graph)\n",
    "\n",
    "# Save graph\n",
    "sav_graph_npy('../graph/aid_%d_gt.npy'%area_id, reduced_graph)\n",
    "\n",
    "# Uncomment the following lines to visualize final reduced graph\n",
    "# tMap = cleanMap(core_center, core_boundary)\n",
    "# for tp in reduced_graph.nodes():\n",
    "#     cs = Circle(location=tp, weight=1, opacity = 0.9, color = 'red', radius = 0) \n",
    "#     tMap.add_layer(cs)\n",
    "\n",
    "# for line in reduced_graph.edges():\n",
    "#     pl = Polyline(locations=line, weight=1, color='blue', opacity=0.7)\n",
    "#     tMap.add_layer(pl)\n",
    "# tMap"
   ]
  },
  {
   "cell_type": "markdown",
   "metadata": {},
   "source": [
    "## Load saved graph and save as csv for visualization in QGIS"
   ]
  },
  {
   "cell_type": "code",
   "execution_count": 5,
   "metadata": {
    "collapsed": false,
    "scrolled": true
   },
   "outputs": [
    {
     "name": "stdout",
     "output_type": "stream",
     "text": [
      "Graph edge length: 3886.88244649\n",
      "Save to ../graph/aid_3_gt_nodes.csv\n",
      "Save to ../graph/aid_3_gt_edges.csv\n"
     ]
    }
   ],
   "source": [
    "G, total_length = load_graph_npy('../graph/aid_%d_gt.npy'%area_id)\n",
    "print 'Graph edge length: %s'%total_length\n",
    "# Save G as csv file\n",
    "sav_graph_to_csv(save_dir='../graph', prefix='aid_%d_gt'%area_id, graph=G) "
   ]
  }
 ],
 "metadata": {
  "anaconda-cloud": {},
  "kernelspec": {
   "display_name": "Python [Root]",
   "language": "python",
   "name": "Python [Root]"
  },
  "language_info": {
   "codemirror_mode": {
    "name": "ipython",
    "version": 2
   },
   "file_extension": ".py",
   "mimetype": "text/x-python",
   "name": "python",
   "nbconvert_exporter": "python",
   "pygments_lexer": "ipython2",
   "version": "2.7.12"
  }
 },
 "nbformat": 4,
 "nbformat_minor": 0
}

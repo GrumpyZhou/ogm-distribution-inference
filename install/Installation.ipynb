{
 "cells": [
  {
   "cell_type": "markdown",
   "metadata": {},
   "source": [
    "# OpenGridMap Notebook -- Installation and Preparation"
   ]
  },
  {
   "cell_type": "markdown",
   "metadata": {},
   "source": [
    "### 1. Install PostGis "
   ]
  },
  {
   "cell_type": "markdown",
   "metadata": {},
   "source": [
    "__Mac OSX__: Find installation from link http://postgis.net/install/ ( installed version should be 2.3+)  \n",
    "__Ubuntu__:  _sudo apt-get install postgresql-contrib postgis_  \n",
    "To allow remote connection (Here only explain the setting for Ubuntu os):  \n",
    "    1. Add line: host all your_user_name 0.0.0.0/0 md5   in /etc/postgresql/9.5/main/pg_hba.conf\n",
    "    2. Set  listen_addresses = '*'  in /etc/postgresql/9.5/main/postgresql.conf\n",
    "    3. Make sure default listening port 5432 is allowed by your os"
   ]
  },
  {
   "cell_type": "markdown",
   "metadata": {},
   "source": [
    "### 2. Download OpenStreetMap data"
   ]
  },
  {
   "cell_type": "markdown",
   "metadata": {},
   "source": [
    "The testing data used by this project is __oberbayern-latest.osm.pbf__,  \n",
    "which is downloaded from link http://download.geofabrik.de/europe/germany/bayern/oberbayern-latest.osm.pbf  \n",
    "For example, one can use command:  \n",
    "_wget http://download.geofabrik.de/europe/germany/bayern/oberbayern-latest.osm.pbf _\n"
   ]
  },
  {
   "cell_type": "markdown",
   "metadata": {},
   "source": [
    "### 3. Import osm data"
   ]
  },
  {
   "cell_type": "markdown",
   "metadata": {},
   "source": [
    "To import the .osm.pbf data, we need a tool called Osm2pgsql,  \n",
    "__Mac OSX__:   *brew install osm2pgsql*  \n",
    "__Ubuntu__:    *wget install osm2pgsql*  \n",
    "See link *http://wiki.openstreetmap.org/wiki/Osm2pgsql#Special_.27tags.27* for detailed installation. \n",
    "\n",
    "\n",
    "After we install it,execute following commands to your PostGis  \n",
    "<code>\n",
    "    createdb gis \n",
    "\tpsql -d gis -c 'CREATE EXTENSION postgis; CREATE EXTENSION hstore;'\n",
    "\tosm2pgsql --create --database gis oberbayern-latest.osm.pbf\n",
    "    **use --slim can slow down the import process and save RAM.\n",
    "</code>\n",
    "(More information in link https://github.com/openstreetmap/osm2pgsql)"
   ]
  },
  {
   "cell_type": "markdown",
   "metadata": {},
   "source": [
    "### 4. Import freimann data from swm"
   ]
  },
  {
   "cell_type": "markdown",
   "metadata": {
    "collapsed": false
   },
   "source": [
    "- shp2sql.sh generates import sql for given shape files of transfomers, cabinets, houses and cables. The script should be executed under the directory of shape files. The generated .sql files are under the self-created dir \"sql/\".\n",
    "- import.sh add entries to the assigned database and should be execute under the parent directory of \"sql/\". "
   ]
  },
  {
   "cell_type": "markdown",
   "metadata": {},
   "source": [
    "### 5. Create other required table for this project"
   ]
  },
  {
   "cell_type": "markdown",
   "metadata": {},
   "source": [
    "There are two further tables to be created:\n",
    "- freimann: it contains three self-defined polygon geometries representing three Freimann subareas for experiments.\n",
    "- freimann_processed_nodes: it is to store the processed data nodes including transformers and cabinets within different subareas.  \n",
    "\n",
    "To create them in the database, one simply import *create_freimann.sql* file with command:<br>\n",
    "<code>psql -U $USERNAME -d gis -f create_freimann.sql </code>"
   ]
  }
 ],
 "metadata": {
  "anaconda-cloud": {},
  "kernelspec": {
   "display_name": "Python [Root]",
   "language": "python",
   "name": "Python [Root]"
  },
  "language_info": {
   "codemirror_mode": {
    "name": "ipython",
    "version": 2
   },
   "file_extension": ".py",
   "mimetype": "text/x-python",
   "name": "python",
   "nbconvert_exporter": "python",
   "pygments_lexer": "ipython2",
   "version": "2.7.12"
  }
 },
 "nbformat": 4,
 "nbformat_minor": 0
}
